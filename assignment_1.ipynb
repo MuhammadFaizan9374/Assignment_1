{
 "cells": [
  {
   "cell_type": "code",
   "execution_count": null,
   "id": "a0a2be28",
   "metadata": {},
   "outputs": [
    {
     "name": "stdout",
     "output_type": "stream",
     "text": [
      "15\n",
      "30\n",
      "45\n",
      "60\n",
      "75\n",
      "90\n"
     ]
    }
   ],
   "source": [
    "#Create a list of all numbers between 1 and 100 that are divisible by both 3 and 5.\n",
    "\n",
    "a=[1, 2, 3, 4, 5, 6, 7, 8, 9, 10,11, 12, 13, 14, 15, 16, 17, 18, 19, 20,21, 22, 23, 24, 25, 26, 27, 28, 29, 30,31, 32, 33, 34, 35, 36, 37, 38, 39, 40,41, 42, 43, 44, 45, 46, 47, 48, 49, 50,51, 52, 53, 54, 55, 56, 57, 58, 59, 60,61, 62, 63, 64, 65, 66, 67, 68, 69, 70,71, 72, 73, 74, 75, 76, 77, 78, 79, 80,81, 82, 83, 84, 85, 86, 87, 88, 89, 90,91, 92, 93, 94, 95, 96, 97, 98, 99, 100]\n",
    "for i in a:\n",
    "    if i%3==0 and i%5==0:\n",
    "      print(i)\n",
    "    "
   ]
  },
  {
   "cell_type": "code",
   "execution_count": 15,
   "id": "5a87609f",
   "metadata": {},
   "outputs": [
    {
     "name": "stdout",
     "output_type": "stream",
     "text": [
      "[1, 3, 5, 7, 9]\n"
     ]
    }
   ],
   "source": [
    "#Check which elements are common in two lists\n",
    "a=[1,2,3,4,5,6,7,8,9]\n",
    "b=[1,3,5,7,9]\n",
    "c=[]\n",
    "for i in a:\n",
    "    if i in b:\n",
    "        c.append(i)\n",
    "print(c)"
   ]
  },
  {
   "cell_type": "code",
   "execution_count": 16,
   "id": "8d4620c4",
   "metadata": {},
   "outputs": [
    {
     "name": "stdout",
     "output_type": "stream",
     "text": [
      "My_college_name_is_Bahria\n"
     ]
    }
   ],
   "source": [
    "#Write a loop that replaces all spaces in a string with underscores.\n",
    "\n",
    "input_string = \"My college name is Bahria\"\n",
    "result = \"\"\n",
    "\n",
    "for char in input_string:\n",
    "    if char == \" \":\n",
    "        result += \"_\"\n",
    "    else:\n",
    "        result += char\n",
    "\n",
    "print(result)\n"
   ]
  },
  {
   "cell_type": "code",
   "execution_count": 9,
   "id": "362c013d",
   "metadata": {},
   "outputs": [
    {
     "name": "stdout",
     "output_type": "stream",
     "text": [
      "[1, 2, 3, 4, 5, 6, 7, 8, 9]\n",
      "[1, 2, 3, 4, 5, 6, 7, 8]\n",
      "[1, 2, 3, 4, 5, 6, 7]\n",
      "[1, 2, 3, 4, 5, 6]\n",
      "[1, 2, 3, 4, 5]\n",
      "[1, 2, 3, 4]\n",
      "[1, 2, 3]\n",
      "[1, 2]\n",
      "[1]\n"
     ]
    }
   ],
   "source": [
    "#Keep removing elements from a list one by one and print the list each time, until it becomes empty\n",
    "numbers = list(range(1, 10))\n",
    "while numbers:\n",
    "    print(numbers)\n",
    "    numbers.pop()\n"
   ]
  },
  {
   "cell_type": "code",
   "execution_count": 10,
   "id": "489ac8c8",
   "metadata": {},
   "outputs": [
    {
     "name": "stdout",
     "output_type": "stream",
     "text": [
      "50\n",
      "25.0\n",
      "12.5\n",
      "6.25\n",
      "3.125\n",
      "1.5625\n"
     ]
    }
   ],
   "source": [
    "#Start from a number and keep dividing it by 2 until it becomes less than 1. Print each value.\n",
    "num = 50\n",
    "while num >= 1:\n",
    "    print(num)\n",
    "    num /= 2"
   ]
  },
  {
   "cell_type": "code",
   "execution_count": 12,
   "id": "bce10d1c",
   "metadata": {},
   "outputs": [
    {
     "name": "stdout",
     "output_type": "stream",
     "text": [
      "Current total: 1.0\n",
      "Current total: 21.0\n",
      "Current total: 45.0\n",
      "Current total: 102.0\n",
      "Total exceeded 100. Done!\n"
     ]
    }
   ],
   "source": [
    "#Ask the user to enter numbers until the total sum crosses 100.\n",
    "total = 0\n",
    "\n",
    "while total <= 100:\n",
    "    number = float(input(\"Enter a number: \"))\n",
    "    total += number\n",
    "    print(\"Current total:\", total)\n",
    "\n",
    "print(\"Total exceeded 100. Done!\")\n"
   ]
  }
 ],
 "metadata": {
  "kernelspec": {
   "display_name": "Python 3",
   "language": "python",
   "name": "python3"
  },
  "language_info": {
   "codemirror_mode": {
    "name": "ipython",
    "version": 3
   },
   "file_extension": ".py",
   "mimetype": "text/x-python",
   "name": "python",
   "nbconvert_exporter": "python",
   "pygments_lexer": "ipython3",
   "version": "3.13.4"
  }
 },
 "nbformat": 4,
 "nbformat_minor": 5
}
